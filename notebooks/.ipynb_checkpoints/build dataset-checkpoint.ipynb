{
 "cells": [
  {
   "cell_type": "code",
   "execution_count": 1,
   "id": "73f3625e-9d6e-4faf-b088-d4bb27c815fa",
   "metadata": {},
   "outputs": [
    {
     "name": "stderr",
     "output_type": "stream",
     "text": [
      "C:\\Users\\redh0\\PycharmProjects\\MusicMind\\.venv\\lib\\site-packages\\pydub\\utils.py:170: RuntimeWarning: Couldn't find ffmpeg or avconv - defaulting to ffmpeg, but may not work\n",
      "  warn(\"Couldn't find ffmpeg or avconv - defaulting to ffmpeg, but may not work\", RuntimeWarning)\n"
     ]
    }
   ],
   "source": [
    "import sys\n",
    "sys.path.append('../src')\n",
    "\n",
    "from audio_feature_extractor import AudioFeatureExtractor\n",
    "import os\n",
    "import pandas as pd\n",
    "from tqdm import tqdm"
   ]
  },
  {
   "cell_type": "code",
   "execution_count": 2,
   "id": "7db2ab21-b043-4096-b6a5-c4e81603cba5",
   "metadata": {},
   "outputs": [],
   "source": [
    "raw_dir = \"../data/raw\"\n",
    "processed_dir = \"../data/processed\"\n",
    "\n",
    "extractor = AudioFeatureExtractor()"
   ]
  },
  {
   "cell_type": "code",
   "execution_count": 3,
   "id": "37591c49-4a57-4aa9-822f-a4e6c1e28b8a",
   "metadata": {},
   "outputs": [
    {
     "name": "stderr",
     "output_type": "stream",
     "text": [
      "Splitting audios for training: 100%|███████████████████████████████████████████████████████████████████████████████████████████████████████████████████████████████████████████████████████████████| 27/27 [00:19<00:00,  1.38it/s]\n"
     ]
    }
   ],
   "source": [
    "extractor.split_audio_for_training(raw_dir, processed_dir)"
   ]
  },
  {
   "cell_type": "code",
   "execution_count": 4,
   "id": "897d0ccb-4fa3-44ed-85d6-f8e86d7a575f",
   "metadata": {},
   "outputs": [
    {
     "name": "stderr",
     "output_type": "stream",
     "text": [
      "Extracting features: 100%|███████████████████████████████████████████████████████████████████████████████████████████████████████████████████████████████████████████████████████████████████████| 718/718 [00:43<00:00, 16.44it/s]\n"
     ]
    },
    {
     "data": {
      "text/html": [
       "<div>\n",
       "<style scoped>\n",
       "    .dataframe tbody tr th:only-of-type {\n",
       "        vertical-align: middle;\n",
       "    }\n",
       "\n",
       "    .dataframe tbody tr th {\n",
       "        vertical-align: top;\n",
       "    }\n",
       "\n",
       "    .dataframe thead th {\n",
       "        text-align: right;\n",
       "    }\n",
       "</style>\n",
       "<table border=\"1\" class=\"dataframe\">\n",
       "  <thead>\n",
       "    <tr style=\"text-align: right;\">\n",
       "      <th></th>\n",
       "      <th>mfccs</th>\n",
       "      <th>chroma</th>\n",
       "      <th>tempo</th>\n",
       "      <th>zcr</th>\n",
       "      <th>genre</th>\n",
       "      <th>music_name</th>\n",
       "    </tr>\n",
       "  </thead>\n",
       "  <tbody>\n",
       "    <tr>\n",
       "      <th>0</th>\n",
       "      <td>[-644.0773;-644.0773;-644.0773;-644.0773;-644....</td>\n",
       "      <td>[0.0;0.0;0.0;0.0;0.0;0.0;0.0;0.0;0.0;0.0;0.0;0...</td>\n",
       "      <td>[117.45383522727273]</td>\n",
       "      <td>0.070279</td>\n",
       "      <td>cla</td>\n",
       "      <td>sique_Allegro Con Brio_0.wav</td>\n",
       "    </tr>\n",
       "    <tr>\n",
       "      <th>1</th>\n",
       "      <td>[-370.3949;-372.81006;-386.2303;-370.03595;-35...</td>\n",
       "      <td>[0.11331358;0.075727694;0.08916694;0.089458466...</td>\n",
       "      <td>[75.99954044117646]</td>\n",
       "      <td>0.093231</td>\n",
       "      <td>cla</td>\n",
       "      <td>sique_Allegro Con Brio_1.wav</td>\n",
       "    </tr>\n",
       "    <tr>\n",
       "      <th>2</th>\n",
       "      <td>[-344.05725;-337.05594;-356.98547;-355.32507;-...</td>\n",
       "      <td>[0.32485196;0.21638948;0.18988283;0.19645096;0...</td>\n",
       "      <td>[75.99954044117646]</td>\n",
       "      <td>0.097941</td>\n",
       "      <td>cla</td>\n",
       "      <td>sique_Allegro Con Brio_10.wav</td>\n",
       "    </tr>\n",
       "    <tr>\n",
       "      <th>3</th>\n",
       "      <td>[-120.95569;-116.247444;-126.89269;-123.11823;...</td>\n",
       "      <td>[0.031390186;0.027126987;0.032462753;0.0381787...</td>\n",
       "      <td>[123.046875]</td>\n",
       "      <td>0.076176</td>\n",
       "      <td>cla</td>\n",
       "      <td>sique_Allegro Con Brio_11.wav</td>\n",
       "    </tr>\n",
       "    <tr>\n",
       "      <th>4</th>\n",
       "      <td>[-185.4905;-154.4087;-157.76195;-174.50734;-19...</td>\n",
       "      <td>[0.6731721;0.53649324;0.24139698;0.18100975;0....</td>\n",
       "      <td>[129.19921875]</td>\n",
       "      <td>0.088615</td>\n",
       "      <td>cla</td>\n",
       "      <td>sique_Allegro Con Brio_12.wav</td>\n",
       "    </tr>\n",
       "    <tr>\n",
       "      <th>...</th>\n",
       "      <td>...</td>\n",
       "      <td>...</td>\n",
       "      <td>...</td>\n",
       "      <td>...</td>\n",
       "      <td>...</td>\n",
       "      <td>...</td>\n",
       "    </tr>\n",
       "    <tr>\n",
       "      <th>713</th>\n",
       "      <td>[18.622852;49.11333;50.80714;48.598442;43.6965...</td>\n",
       "      <td>[0.6108211;0.6185432;0.78229696;0.894895;0.752...</td>\n",
       "      <td>[112.34714673913044]</td>\n",
       "      <td>0.131817</td>\n",
       "      <td>rck</td>\n",
       "      <td>highoctane_5.wav</td>\n",
       "    </tr>\n",
       "    <tr>\n",
       "      <th>714</th>\n",
       "      <td>[-9.018927;15.077422;8.290682;1.2184253;11.084...</td>\n",
       "      <td>[0.63058543;0.6790334;0.83142626;0.93248737;0....</td>\n",
       "      <td>[112.34714673913044]</td>\n",
       "      <td>0.138363</td>\n",
       "      <td>rck</td>\n",
       "      <td>highoctane_6.wav</td>\n",
       "    </tr>\n",
       "    <tr>\n",
       "      <th>715</th>\n",
       "      <td>[26.426273;52.500645;40.822273;32.878357;26.93...</td>\n",
       "      <td>[1.0;0.9107013;0.5894866;0.61553764;0.62255096...</td>\n",
       "      <td>[112.34714673913044]</td>\n",
       "      <td>0.133495</td>\n",
       "      <td>rck</td>\n",
       "      <td>highoctane_7.wav</td>\n",
       "    </tr>\n",
       "    <tr>\n",
       "      <th>716</th>\n",
       "      <td>[-8.391364;22.29476;23.361872;17.305256;11.784...</td>\n",
       "      <td>[0.28809354;0.22899507;0.20541257;0.15181458;0...</td>\n",
       "      <td>[107.666015625]</td>\n",
       "      <td>0.123960</td>\n",
       "      <td>rck</td>\n",
       "      <td>highoctane_8.wav</td>\n",
       "    </tr>\n",
       "    <tr>\n",
       "      <th>717</th>\n",
       "      <td>[-348.22324;-319.35284;-321.3886;-47.05423;66....</td>\n",
       "      <td>[0.60664;0.46696052;0.2890405;0.7529529;0.3919...</td>\n",
       "      <td>[73.828125]</td>\n",
       "      <td>0.151631</td>\n",
       "      <td>rck</td>\n",
       "      <td>highoctane_9.wav</td>\n",
       "    </tr>\n",
       "  </tbody>\n",
       "</table>\n",
       "<p>718 rows × 6 columns</p>\n",
       "</div>"
      ],
      "text/plain": [
       "                                                 mfccs  \\\n",
       "0    [-644.0773;-644.0773;-644.0773;-644.0773;-644....   \n",
       "1    [-370.3949;-372.81006;-386.2303;-370.03595;-35...   \n",
       "2    [-344.05725;-337.05594;-356.98547;-355.32507;-...   \n",
       "3    [-120.95569;-116.247444;-126.89269;-123.11823;...   \n",
       "4    [-185.4905;-154.4087;-157.76195;-174.50734;-19...   \n",
       "..                                                 ...   \n",
       "713  [18.622852;49.11333;50.80714;48.598442;43.6965...   \n",
       "714  [-9.018927;15.077422;8.290682;1.2184253;11.084...   \n",
       "715  [26.426273;52.500645;40.822273;32.878357;26.93...   \n",
       "716  [-8.391364;22.29476;23.361872;17.305256;11.784...   \n",
       "717  [-348.22324;-319.35284;-321.3886;-47.05423;66....   \n",
       "\n",
       "                                                chroma                 tempo  \\\n",
       "0    [0.0;0.0;0.0;0.0;0.0;0.0;0.0;0.0;0.0;0.0;0.0;0...  [117.45383522727273]   \n",
       "1    [0.11331358;0.075727694;0.08916694;0.089458466...   [75.99954044117646]   \n",
       "2    [0.32485196;0.21638948;0.18988283;0.19645096;0...   [75.99954044117646]   \n",
       "3    [0.031390186;0.027126987;0.032462753;0.0381787...          [123.046875]   \n",
       "4    [0.6731721;0.53649324;0.24139698;0.18100975;0....        [129.19921875]   \n",
       "..                                                 ...                   ...   \n",
       "713  [0.6108211;0.6185432;0.78229696;0.894895;0.752...  [112.34714673913044]   \n",
       "714  [0.63058543;0.6790334;0.83142626;0.93248737;0....  [112.34714673913044]   \n",
       "715  [1.0;0.9107013;0.5894866;0.61553764;0.62255096...  [112.34714673913044]   \n",
       "716  [0.28809354;0.22899507;0.20541257;0.15181458;0...       [107.666015625]   \n",
       "717  [0.60664;0.46696052;0.2890405;0.7529529;0.3919...           [73.828125]   \n",
       "\n",
       "          zcr genre                     music_name  \n",
       "0    0.070279   cla   sique_Allegro Con Brio_0.wav  \n",
       "1    0.093231   cla   sique_Allegro Con Brio_1.wav  \n",
       "2    0.097941   cla  sique_Allegro Con Brio_10.wav  \n",
       "3    0.076176   cla  sique_Allegro Con Brio_11.wav  \n",
       "4    0.088615   cla  sique_Allegro Con Brio_12.wav  \n",
       "..        ...   ...                            ...  \n",
       "713  0.131817   rck               highoctane_5.wav  \n",
       "714  0.138363   rck               highoctane_6.wav  \n",
       "715  0.133495   rck               highoctane_7.wav  \n",
       "716  0.123960   rck               highoctane_8.wav  \n",
       "717  0.151631   rck               highoctane_9.wav  \n",
       "\n",
       "[718 rows x 6 columns]"
      ]
     },
     "execution_count": 4,
     "metadata": {},
     "output_type": "execute_result"
    }
   ],
   "source": [
    "all_features = []\n",
    "for filename in tqdm(os.listdir(processed_dir), desc=\"Extracting features\"):\n",
    "    if filename.endswith((\".wav\")):\n",
    "        file_path = os.path.join(processed_dir, filename)\n",
    "        y, sr = extractor.load_audio_file(file_path)\n",
    "        if y is not None:\n",
    "            features = extractor.extract_features_from_audio(y, sr)\n",
    "            genre = filename[:3]\n",
    "            music_name = filename[4:]\n",
    "            features['genre'] = genre\n",
    "            features['music_name'] = music_name\n",
    "            all_features.append(features)\n",
    "\n",
    "df = pd.DataFrame(all_features)\n",
    "df"
   ]
  },
  {
   "cell_type": "code",
   "execution_count": 5,
   "id": "cc0f0d16-81b1-4004-b040-c0230bd2ec63",
   "metadata": {},
   "outputs": [
    {
     "name": "stdout",
     "output_type": "stream",
     "text": [
      "DataFrame exporté avec succès vers audio_features.csv\n"
     ]
    }
   ],
   "source": [
    "extractor.dataframe_to_csv(df, output_filename=\"audio_features.csv\")"
   ]
  },
  {
   "cell_type": "code",
   "execution_count": null,
   "id": "121ec2ec-6aab-401c-8988-6f7b96f83ad2",
   "metadata": {},
   "outputs": [],
   "source": []
  }
 ],
 "metadata": {
  "kernelspec": {
   "display_name": "Python 3 (ipykernel)",
   "language": "python",
   "name": "python3"
  },
  "language_info": {
   "codemirror_mode": {
    "name": "ipython",
    "version": 3
   },
   "file_extension": ".py",
   "mimetype": "text/x-python",
   "name": "python",
   "nbconvert_exporter": "python",
   "pygments_lexer": "ipython3",
   "version": "3.10.10"
  }
 },
 "nbformat": 4,
 "nbformat_minor": 5
}
